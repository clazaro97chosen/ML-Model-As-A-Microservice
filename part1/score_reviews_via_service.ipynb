{
 "cells": [
  {
   "cell_type": "code",
   "execution_count": 34,
   "metadata": {},
   "outputs": [
    {
     "output_type": "stream",
     "name": "stderr",
     "text": "[nltk_data] Downloading package movie_reviews to\n[nltk_data]     /Users/cristian/nltk_data...\n[nltk_data]   Package movie_reviews is already up-to-date!\n"
    },
    {
     "output_type": "execute_result",
     "data": {
      "text/plain": "True"
     },
     "metadata": {},
     "execution_count": 34
    }
   ],
   "source": [
    "from nltk import download \n",
    "import boto3\n",
    "download('movie_reviews')"
   ]
  },
  {
   "cell_type": "code",
   "execution_count": 35,
   "metadata": {},
   "outputs": [],
   "source": [
    "from nltk.corpus import movie_reviews\n",
    "#extract words from reviews, pair with label\n",
    "\n",
    "reviews_pos=[]\n",
    "for fileid in movie_reviews.fileids('pos'):\n",
    "    review = movie_reviews.raw(fileid)\n",
    "    reviews_pos.append(review)\n",
    "\n",
    "reviews_neg = []\n",
    "for fileid in movie_reviews.fileids('neg'):\n",
    "    review = movie_reviews.raw(fileid)\n",
    "    reviews_neg.append(review)\n"
   ]
  },
  {
   "cell_type": "code",
   "execution_count": 5,
   "metadata": {},
   "outputs": [],
   "source": [
    "import boto3\n",
    "client = boto3.client(service_name='comprehend',region_name='us-west-2')"
   ]
  },
  {
   "cell_type": "code",
   "execution_count": 14,
   "metadata": {},
   "outputs": [],
   "source": [
    "def score_review(review):\n",
    "    response = client.detect_sentiment(\n",
    "        Text=review,\n",
    "        LanguageCode='en'\n",
    "    )\n",
    "    if response['SentimentScore']['Negative'] > response['SentimentScore']['Positive']:\n",
    "        return 'neg'\n",
    "    elif response['SentimentScore']['Negative'] < response['SentimentScore']['Positive']:\n",
    "        return 'pos'\n",
    "    else:\n",
    "        return 'pos'"
   ]
  },
  {
   "cell_type": "code",
   "execution_count": 22,
   "metadata": {},
   "outputs": [
    {
     "output_type": "execute_result",
     "data": {
      "text/plain": "4491"
     },
     "metadata": {},
     "execution_count": 22
    }
   ],
   "source": [
    "import sys\n",
    "sys.getsizeof(reviews_pos[500])\n",
    "#amazon comprehend can only "
   ]
  },
  {
   "cell_type": "code",
   "execution_count": 36,
   "metadata": {},
   "outputs": [],
   "source": [
    "reviews_pos = [ i for i in reviews_pos if sys.getsizeof(i) <= 5000 ]\n",
    "reviews_neg = [ i for i in reviews_neg if sys.getsizeof(i) <= 5000 ]"
   ]
  },
  {
   "cell_type": "code",
   "execution_count": 37,
   "metadata": {},
   "outputs": [
    {
     "output_type": "execute_result",
     "data": {
      "text/plain": "'len of reviews_neg is: 847 and len of reviews_pos is 735'"
     },
     "metadata": {},
     "execution_count": 37
    }
   ],
   "source": [
    "f'len of reviews_neg is: {len(reviews_neg)} and len of reviews_pos is {len(reviews_pos)}'"
   ]
  },
  {
   "cell_type": "code",
   "execution_count": 38,
   "metadata": {},
   "outputs": [],
   "source": [
    "results_pos = []\n",
    "for review in reviews_pos:\n",
    "    result = score_review(review)\n",
    "    results_pos.append(result)\n",
    "\n",
    "results_neg = []\n",
    "for review in reviews_neg:\n",
    "    result = score_review(review)\n",
    "    results_neg.append(result)\n"
   ]
  },
  {
   "cell_type": "code",
   "execution_count": 39,
   "metadata": {},
   "outputs": [
    {
     "output_type": "execute_result",
     "data": {
      "text/plain": "'pos'"
     },
     "metadata": {},
     "execution_count": 39
    }
   ],
   "source": [
    "results_pos[10]"
   ]
  },
  {
   "cell_type": "code",
   "execution_count": 40,
   "metadata": {},
   "outputs": [
    {
     "output_type": "execute_result",
     "data": {
      "text/plain": "'accuracy of positive reviews is: 0.7537414965986394 & accuracy of negative reviews is: 0.5761511216056671'"
     },
     "metadata": {},
     "execution_count": 40
    }
   ],
   "source": [
    "correct_pos = results_pos.count('pos')\n",
    "accuracy_pos = float(correct_pos)/len(results_pos)\n",
    "correct_neg = results_neg.count('neg')\n",
    "accuracy_neg = float(correct_neg)/len(results_neg)\n",
    "\n",
    "correct_all = correct_neg + correct_pos\n",
    "accuracy_all = float(correct_all)/ (len(results_pos) + len(results_neg))\n",
    "f'accuracy of positive reviews is: {accuracy_pos} & accuracy of negative reviews is: {accuracy_neg}'"
   ]
  }
 ],
 "metadata": {
  "language_info": {
   "codemirror_mode": {
    "name": "ipython",
    "version": 3
   },
   "file_extension": ".py",
   "mimetype": "text/x-python",
   "name": "python",
   "nbconvert_exporter": "python",
   "pygments_lexer": "ipython3",
   "version": "3.7.7-final"
  },
  "orig_nbformat": 2,
  "kernelspec": {
   "name": "python3",
   "display_name": "Python 3"
  }
 },
 "nbformat": 4,
 "nbformat_minor": 2
}